{
 "cells": [
  {
   "cell_type": "markdown",
   "metadata": {},
   "source": [
    "# Introduction\n",
    "\n",
    "This project will investigate if there is a strong correlation between the economic output of a country and the life expectancy of its citizens.\n",
    "\n",
    "The goals are to prepare data, followed by analysis with plots, and seek to explain the findings from the study.\n",
    "\n",
    "Here are a few questions that this project will seek to answer:\n",
    "\n",
    "+ Has life expectancy increased over time in the six nations?\n",
    "+ Has GDP increased over time in the six nations?\n",
    "+ Is there a correlation between GDP and life expectancy of a country?\n",
    "+ What is the average life expectancy in these nations?\n",
    "+ What is the distribution of that life expectancy?\n",
    "\n",
    "**Data sources**\n",
    "\n",
    "- GDP Source: [World Bank](https://data.worldbank.org/indicator/NY.GDP.MKTP.CD) national accounts data, and OECD National Accounts data files.\n",
    "\n",
    "- Life expectancy Data Source: [World Health Organization](http://apps.who.int/gho/data/node.main.688)"
   ]
  },
  {
   "cell_type": "markdown",
   "metadata": {},
   "source": [
    "## Import data and modules"
   ]
  },
  {
   "cell_type": "code",
   "execution_count": 2,
   "metadata": {},
   "outputs": [],
   "source": [
    "import pandas as pd\n",
    "import seaborn as sns\n",
    "import matplotlib.pyplot as plt\n",
    "\n",
    "import glob as glob"
   ]
  },
  {
   "cell_type": "code",
   "execution_count": 3,
   "metadata": {},
   "outputs": [],
   "source": [
    "data = pd.read_csv('all_data.csv')"
   ]
  },
  {
   "cell_type": "markdown",
   "metadata": {},
   "source": [
    "## Inspect data\n",
    "2 qualitative fields (life expectancy, gdp); 2 categorical fields (country, year)"
   ]
  },
  {
   "cell_type": "code",
   "execution_count": 4,
   "metadata": {},
   "outputs": [
    {
     "name": "stdout",
     "output_type": "stream",
     "text": [
      "<class 'pandas.core.frame.DataFrame'>\n",
      "RangeIndex: 96 entries, 0 to 95\n",
      "Data columns (total 4 columns):\n",
      " #   Column                            Non-Null Count  Dtype  \n",
      "---  ------                            --------------  -----  \n",
      " 0   Country                           96 non-null     object \n",
      " 1   Year                              96 non-null     int64  \n",
      " 2   Life expectancy at birth (years)  96 non-null     float64\n",
      " 3   GDP                               96 non-null     float64\n",
      "dtypes: float64(2), int64(1), object(1)\n",
      "memory usage: 3.1+ KB\n"
     ]
    }
   ],
   "source": [
    "data.info()"
   ]
  },
  {
   "cell_type": "markdown",
   "metadata": {},
   "source": [
    "### Create calculated fields"
   ]
  },
  {
   "cell_type": "code",
   "execution_count": 5,
   "metadata": {},
   "outputs": [],
   "source": [
    "data['gdp_billions'] = data['GDP'] / 1000000000"
   ]
  },
  {
   "cell_type": "markdown",
   "metadata": {},
   "source": [
    "### Explore *year*\n",
    "\n",
    "Data is available for the years 2000 - 2015"
   ]
  },
  {
   "cell_type": "code",
   "execution_count": 6,
   "metadata": {},
   "outputs": [
    {
     "data": {
      "text/plain": [
       "2015    6\n",
       "2014    6\n",
       "2013    6\n",
       "2012    6\n",
       "2011    6\n",
       "2010    6\n",
       "2009    6\n",
       "2008    6\n",
       "2007    6\n",
       "2006    6\n",
       "2005    6\n",
       "2004    6\n",
       "2003    6\n",
       "2002    6\n",
       "2001    6\n",
       "2000    6\n",
       "Name: Year, dtype: int64"
      ]
     },
     "execution_count": 6,
     "metadata": {},
     "output_type": "execute_result"
    }
   ],
   "source": [
    "data['Year'].value_counts()"
   ]
  },
  {
   "cell_type": "markdown",
   "metadata": {},
   "source": [
    "### Explore *country*\n",
    "\n",
    "Data is available for United States of America, Mexico, Germany, Chile, Zimbabwe, and China   "
   ]
  },
  {
   "cell_type": "code",
   "execution_count": 7,
   "metadata": {},
   "outputs": [
    {
     "data": {
      "text/plain": [
       "China                       16\n",
       "Chile                       16\n",
       "Mexico                      16\n",
       "Zimbabwe                    16\n",
       "United States of America    16\n",
       "Germany                     16\n",
       "Name: Country, dtype: int64"
      ]
     },
     "execution_count": 7,
     "metadata": {},
     "output_type": "execute_result"
    }
   ],
   "source": [
    "data['Country'].value_counts()"
   ]
  },
  {
   "cell_type": "markdown",
   "metadata": {},
   "source": [
    "## Explore *gdp*"
   ]
  },
  {
   "cell_type": "code",
   "execution_count": 8,
   "metadata": {},
   "outputs": [
    {
     "data": {
      "text/plain": [
       "4.4157028"
      ]
     },
     "execution_count": 8,
     "metadata": {},
     "output_type": "execute_result"
    }
   ],
   "source": [
    "# min gdp (billions)\n",
    "data['gdp_billions'].min()"
   ]
  },
  {
   "cell_type": "code",
   "execution_count": 9,
   "metadata": {},
   "outputs": [
    {
     "data": {
      "text/plain": [
       "18100.0"
      ]
     },
     "execution_count": 9,
     "metadata": {},
     "output_type": "execute_result"
    }
   ],
   "source": [
    "# max gdp (billions)\n",
    "data['gdp_billions'].max()"
   ]
  },
  {
   "cell_type": "code",
   "execution_count": 10,
   "metadata": {},
   "outputs": [
    {
     "data": {
      "text/plain": [
       "3880.4985707683954"
      ]
     },
     "execution_count": 10,
     "metadata": {},
     "output_type": "execute_result"
    }
   ],
   "source": [
    "# mean gdp (billions)\n",
    "data['gdp_billions'].mean()"
   ]
  },
  {
   "cell_type": "code",
   "execution_count": 11,
   "metadata": {},
   "outputs": [
    {
     "data": {
      "text/plain": [
       "1280.22"
      ]
     },
     "execution_count": 11,
     "metadata": {},
     "output_type": "execute_result"
    }
   ],
   "source": [
    "# median gdp (billions)\n",
    "data['gdp_billions'].median()"
   ]
  },
  {
   "cell_type": "code",
   "execution_count": 52,
   "metadata": {},
   "outputs": [
    {
     "data": {
      "text/html": [
       "<div>\n",
       "<style scoped>\n",
       "    .dataframe tbody tr th:only-of-type {\n",
       "        vertical-align: middle;\n",
       "    }\n",
       "\n",
       "    .dataframe tbody tr th {\n",
       "        vertical-align: top;\n",
       "    }\n",
       "\n",
       "    .dataframe thead th {\n",
       "        text-align: right;\n",
       "    }\n",
       "</style>\n",
       "<table border=\"1\" class=\"dataframe\">\n",
       "  <thead>\n",
       "    <tr style=\"text-align: right;\">\n",
       "      <th></th>\n",
       "      <th>Year</th>\n",
       "      <th>Life expectancy at birth (years)</th>\n",
       "      <th>GDP</th>\n",
       "      <th>gdp_billions</th>\n",
       "    </tr>\n",
       "    <tr>\n",
       "      <th>Country</th>\n",
       "      <th></th>\n",
       "      <th></th>\n",
       "      <th></th>\n",
       "      <th></th>\n",
       "    </tr>\n",
       "  </thead>\n",
       "  <tbody>\n",
       "    <tr>\n",
       "      <th>Chile</th>\n",
       "      <td>2007.5</td>\n",
       "      <td>78.94375</td>\n",
       "      <td>1.697888e+11</td>\n",
       "      <td>169.788845</td>\n",
       "    </tr>\n",
       "    <tr>\n",
       "      <th>China</th>\n",
       "      <td>2007.5</td>\n",
       "      <td>74.26250</td>\n",
       "      <td>4.957714e+12</td>\n",
       "      <td>4957.713750</td>\n",
       "    </tr>\n",
       "    <tr>\n",
       "      <th>Germany</th>\n",
       "      <td>2007.5</td>\n",
       "      <td>79.65625</td>\n",
       "      <td>3.094776e+12</td>\n",
       "      <td>3094.775625</td>\n",
       "    </tr>\n",
       "    <tr>\n",
       "      <th>Mexico</th>\n",
       "      <td>2007.5</td>\n",
       "      <td>75.71875</td>\n",
       "      <td>9.766506e+11</td>\n",
       "      <td>976.650625</td>\n",
       "    </tr>\n",
       "    <tr>\n",
       "      <th>United States of America</th>\n",
       "      <td>2007.5</td>\n",
       "      <td>78.06250</td>\n",
       "      <td>1.407500e+13</td>\n",
       "      <td>14075.000000</td>\n",
       "    </tr>\n",
       "    <tr>\n",
       "      <th>Zimbabwe</th>\n",
       "      <td>2007.5</td>\n",
       "      <td>50.09375</td>\n",
       "      <td>9.062580e+09</td>\n",
       "      <td>9.062580</td>\n",
       "    </tr>\n",
       "  </tbody>\n",
       "</table>\n",
       "</div>"
      ],
      "text/plain": [
       "                            Year  Life expectancy at birth (years)  \\\n",
       "Country                                                              \n",
       "Chile                     2007.5                          78.94375   \n",
       "China                     2007.5                          74.26250   \n",
       "Germany                   2007.5                          79.65625   \n",
       "Mexico                    2007.5                          75.71875   \n",
       "United States of America  2007.5                          78.06250   \n",
       "Zimbabwe                  2007.5                          50.09375   \n",
       "\n",
       "                                   GDP  gdp_billions  \n",
       "Country                                               \n",
       "Chile                     1.697888e+11    169.788845  \n",
       "China                     4.957714e+12   4957.713750  \n",
       "Germany                   3.094776e+12   3094.775625  \n",
       "Mexico                    9.766506e+11    976.650625  \n",
       "United States of America  1.407500e+13  14075.000000  \n",
       "Zimbabwe                  9.062580e+09      9.062580  "
      ]
     },
     "execution_count": 52,
     "metadata": {},
     "output_type": "execute_result"
    }
   ],
   "source": [
    "# mean gdp by country\n",
    "data.groupby(by=['Country']).mean()"
   ]
  },
  {
   "cell_type": "code",
   "execution_count": 12,
   "metadata": {},
   "outputs": [
    {
     "data": {
      "image/png": "[encoded data removed]",
      "text/plain": [
       "<Figure size 432x288 with 1 Axes>"
      ]
     },
     "metadata": {
      "needs_background": "light"
     },
     "output_type": "display_data"
    }
   ],
   "source": [
    "# boxplot showing distribution of gdp\n",
    "sns.boxplot(x='gdp_billions', data=data)\n",
    "plt.show()"
   ]
  },
  {
   "cell_type": "code",
   "execution_count": 53,
   "metadata": {},
   "outputs": [
    {
     "data": {
      "image/png": "[encoded data removed]",
      "text/plain": [
       "<Figure size 432x288 with 1 Axes>"
      ]
     },
     "metadata": {
      "needs_background": "light"
     },
     "output_type": "display_data"
    }
   ],
   "source": [
    "# histogram showing distribution of gdp\n",
    "sns.histplot(data['gdp_billions'])\n",
    "plt.show()"
   ]
  },
  {
   "cell_type": "markdown",
   "metadata": {},
   "source": [
    "### Explore *life epectancy*"
   ]
  },
  {
   "cell_type": "code",
   "execution_count": 14,
   "metadata": {},
   "outputs": [
    {
     "data": {
      "text/plain": [
       "44.3"
      ]
     },
     "execution_count": 14,
     "metadata": {},
     "output_type": "execute_result"
    }
   ],
   "source": [
    "# min life expectancy\n",
    "data['Life expectancy at birth (years)'].min()"
   ]
  },
  {
   "cell_type": "code",
   "execution_count": 15,
   "metadata": {},
   "outputs": [
    {
     "data": {
      "text/plain": [
       "81.0"
      ]
     },
     "execution_count": 15,
     "metadata": {},
     "output_type": "execute_result"
    }
   ],
   "source": [
    "# max life expectancy\n",
    "data['Life expectancy at birth (years)'].max()"
   ]
  },
  {
   "cell_type": "code",
   "execution_count": 16,
   "metadata": {},
   "outputs": [
    {
     "data": {
      "text/plain": [
       "76.75"
      ]
     },
     "execution_count": 16,
     "metadata": {},
     "output_type": "execute_result"
    }
   ],
   "source": [
    "# median life expectancy\n",
    "data['Life expectancy at birth (years)'].median()"
   ]
  },
  {
   "cell_type": "code",
   "execution_count": 17,
   "metadata": {},
   "outputs": [
    {
     "data": {
      "text/plain": [
       "72.78958333333334"
      ]
     },
     "execution_count": 17,
     "metadata": {},
     "output_type": "execute_result"
    }
   ],
   "source": [
    "# mean life expectancy\n",
    "data['Life expectancy at birth (years)'].mean()"
   ]
  },
  {
   "cell_type": "code",
   "execution_count": 18,
   "metadata": {},
   "outputs": [
    {
     "data": {
      "image/png": "[encoded data removed]",
      "text/plain": [
       "<Figure size 432x288 with 1 Axes>"
      ]
     },
     "metadata": {
      "needs_background": "light"
     },
     "output_type": "display_data"
    }
   ],
   "source": [
    "# boxplot showing distribution of life expectancy\n",
    "sns.boxplot(x='Life expectancy at birth (years)', data=data)\n",
    "plt.show()"
   ]
  },
  {
   "cell_type": "code",
   "execution_count": 23,
   "metadata": {
    "scrolled": false
   },
   "outputs": [
    {
     "data": {
      "image/png": "[encoded data removed]",
      "text/plain": [
       "<Figure size 432x288 with 1 Axes>"
      ]
     },
     "metadata": {
      "needs_background": "light"
     },
     "output_type": "display_data"
    }
   ],
   "source": [
    "# histogram showing distribution of life expectancy\n",
    "sns.histplot(data['Life expectancy at birth (years)'])\n",
    "plt.show()"
   ]
  },
  {
   "cell_type": "markdown",
   "metadata": {},
   "source": [
    "## Explore relationships between the variables"
   ]
  },
  {
   "cell_type": "code",
   "execution_count": 20,
   "metadata": {},
   "outputs": [
    {
     "data": {
      "image/png": "[encoded data removed]",
      "text/plain": [
       "<Figure size 432x288 with 1 Axes>"
      ]
     },
     "metadata": {
      "needs_background": "light"
     },
     "output_type": "display_data"
    }
   ],
   "source": [
    "# scatter plot showing relationship between gdp and life expectancy\n",
    "sns.scatterplot(x = 'GDP', y = 'Life expectancy at birth (years)', data = data, hue = 'Country')\n",
    "plt.show()"
   ]
  },
  {
   "cell_type": "markdown",
   "metadata": {},
   "source": [
    "The scatterplot shows that gdp has a positive relationship with life expectancy within individual countries.\n",
    "It is difficult to determine  the relationship between gdp and life expectancy in Zimbabwe - need to investigate this trend more closely.\n",
    "\n",
    "It is difficult to determine how strong the overall relationship between gdp and life expectancy is given the small sample size of 6 countries. Including all available countries would allow us to analyze this relationship. Exporing the relationship between gdp per capita and life expectancy would also be useful."
   ]
  },
  {
   "cell_type": "code",
   "execution_count": 21,
   "metadata": {},
   "outputs": [
    {
     "data": {
      "image/png": "[encoded data removed]",
      "text/plain": [
       "<Figure size 432x288 with 1 Axes>"
      ]
     },
     "metadata": {
      "needs_background": "light"
     },
     "output_type": "display_data"
    }
   ],
   "source": [
    "# lineplot showing life expectancy over time\n",
    "sns.lineplot(data=data, x=\"Year\", y='Life expectancy at birth (years)', hue = 'Country')\n",
    "plt.show()"
   ]
  },
  {
   "cell_type": "markdown",
   "metadata": {},
   "source": [
    "All countries saw their life expectancy increase between 2000 and 2015. Zimbabwe saw the most dramatic increase - from 46 to 61."
   ]
  },
  {
   "cell_type": "markdown",
   "metadata": {},
   "source": [
    "## Investigate Zimbabwe"
   ]
  },
  {
   "cell_type": "code",
   "execution_count": 26,
   "metadata": {},
   "outputs": [],
   "source": [
    "# filter df to include only Zimbabwe\n",
    "zimbabwe = data[data['Country'] == 'Zimbabwe']"
   ]
  },
  {
   "cell_type": "code",
   "execution_count": 31,
   "metadata": {},
   "outputs": [
    {
     "data": {
      "image/png": "[encoded data removed]",
      "text/plain": [
       "<Figure size 432x288 with 1 Axes>"
      ]
     },
     "metadata": {
      "needs_background": "light"
     },
     "output_type": "display_data"
    }
   ],
   "source": [
    "# scatterplot showing relationship between gdp (billions) and life expectancy in Zimbabwe\n",
    "sns.scatterplot(x = 'gdp_billions', y = 'Life expectancy at birth (years)', data = zimbabwe)\n",
    "plt.show()"
   ]
  },
  {
   "cell_type": "code",
   "execution_count": 37,
   "metadata": {},
   "outputs": [
    {
     "data": {
      "text/plain": [
       "<matplotlib.axes._subplots.AxesSubplot at 0x1fdc916dd48>"
      ]
     },
     "execution_count": 37,
     "metadata": {},
     "output_type": "execute_result"
    },
    {
     "data": {
      "image/png": "[encoded data removed]",
      "text/plain": [
       "<Figure size 432x288 with 1 Axes>"
      ]
     },
     "metadata": {
      "needs_background": "light"
     },
     "output_type": "display_data"
    }
   ],
   "source": [
    "# lineplot showing life expectancy over time in Zimbabwe\n",
    "sns.lineplot(data=zimbabwe, x=\"Year\", y='Life expectancy at birth (years)')"
   ]
  },
  {
   "cell_type": "code",
   "execution_count": 45,
   "metadata": {},
   "outputs": [],
   "source": [
    "# calculate rate of increase in life expectancy between 2004 and 2015\n",
    "le_increase = (zimbabwe['Life expectancy at birth (years)'].max() - zimbabwe['Life expectancy at birth (years)'].min()) / zimbabwe['Life expectancy at birth (years)'].min()"
   ]
  },
  {
   "cell_type": "markdown",
   "metadata": {},
   "source": [
    "Zimbabwe's life expectancy declined between 2000 and 2004, before rising by 37% to 61 in 2015."
   ]
  },
  {
   "cell_type": "code",
   "execution_count": 50,
   "metadata": {},
   "outputs": [
    {
     "data": {
      "text/plain": [
       "<matplotlib.axes._subplots.AxesSubplot at 0x1fdc6eeaa08>"
      ]
     },
     "execution_count": 50,
     "metadata": {},
     "output_type": "execute_result"
    },
    {
     "data": {
      "image/png": "[encoded data removed]",
      "text/plain": [
       "<Figure size 432x288 with 1 Axes>"
      ]
     },
     "metadata": {
      "needs_background": "light"
     },
     "output_type": "display_data"
    }
   ],
   "source": [
    "# lineplot showing gdp (billions) over time in Zimbabwe\n",
    "sns.lineplot(data=zimbabwe, x=\"Year\", y='gdp_billions')"
   ]
  },
  {
   "cell_type": "code",
   "execution_count": 51,
   "metadata": {},
   "outputs": [],
   "source": [
    "# calculate rate of increase in gdp between 2008 and 2015\n",
    "gdp_increase = (zimbabwe['gdp_billions'].max() - zimbabwe['gdp_billions'].min()) / zimbabwe['gdp_billions'].min()"
   ]
  },
  {
   "cell_type": "markdown",
   "metadata": {},
   "source": [
    "Zimbabwe saw a decrease in gdp from 2000 - 2008, followed by a 269% increase between 2009 and 2015."
   ]
  },
  {
   "cell_type": "markdown",
   "metadata": {},
   "source": [
    "Zimbabwe's gdp and life expectancy both declined between 2000 and 2004, but life expectancy began to tick back up in 2005, while GDP continued to decline until 2009."
   ]
  },
  {
   "cell_type": "markdown",
   "metadata": {},
   "source": []
  }
 ],
 "metadata": {
  "kernelspec": {
   "display_name": "Python 3",
   "language": "python",
   "name": "python3"
  },
  "language_info": {
   "codemirror_mode": {
    "name": "ipython",
    "version": 3
   },
   "file_extension": ".py",
   "mimetype": "text/x-python",
   "name": "python",
   "nbconvert_exporter": "python",
   "pygments_lexer": "ipython3",
   "version": "3.8.1"
  }
 },
 "nbformat": 4,
 "nbformat_minor": 4
}
